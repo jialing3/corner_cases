{
 "cells": [
  {
   "cell_type": "code",
   "execution_count": 1,
   "metadata": {
    "collapsed": true
   },
   "outputs": [],
   "source": [
    "import numpy as np\n",
    "from scipy import stats\n",
    "import random\n",
    "import matplotlib.pyplot as plt\n",
    "%matplotlib inline"
   ]
  },
  {
   "cell_type": "code",
   "execution_count": 2,
   "metadata": {
    "collapsed": true
   },
   "outputs": [],
   "source": [
    "n = 10\n",
    "arms = np.random.rand(n)\n",
    "eps = 0.1"
   ]
  },
  {
   "cell_type": "code",
   "execution_count": 3,
   "metadata": {
    "collapsed": true
   },
   "outputs": [],
   "source": [
    "def reward(prob):\n",
    "    reward = 0\n",
    "    for i in range(10):\n",
    "        if random.random() < prob:\n",
    "            reward += 1\n",
    "    return reward"
   ]
  },
  {
   "cell_type": "code",
   "execution_count": 19,
   "metadata": {
    "collapsed": true
   },
   "outputs": [],
   "source": [
    "# action-value\n",
    "av = np.array([np.random.randint(0, (n + 1)), 0]).reshape(1, 2)\n",
    "\n",
    "def best_arm(a):\n",
    "    best_arm = 0\n",
    "    best_mean = 0\n",
    "    for u in a:\n",
    "        # mean reward for each action\n",
    "        avg = np.mean(a[np.where(a[:, 0] == u[0])][:, 1])\n",
    "        if best_mean < avg:\n",
    "            best_mean = avg\n",
    "            best_arm = u[0]\n",
    "    return best_arm"
   ]
  },
  {
   "cell_type": "code",
   "execution_count": 20,
   "metadata": {
    "collapsed": false
   },
   "outputs": [
    {
     "data": {
      "image/png": "[encoded data removed]",
      "text/plain": [
       "<matplotlib.figure.Figure at 0x10da68e10>"
      ]
     },
     "metadata": {},
     "output_type": "display_data"
    }
   ],
   "source": [
    "plt.xlabel('Plays')\n",
    "plt.ylabel('Avg Reward')\n",
    "for i in range(500):\n",
    "    if random.random() > eps: # greedy arm selection\n",
    "        choice = best_arm(av)\n",
    "    else: # random arm selection\n",
    "        choice = np.where(arms == np.random.choice(arms))[0][0]\n",
    "    this_av = np.array([[choice, reward(arms[choice])]])\n",
    "    av = np.concatenate((av, this_av), axis=0)\n",
    "    # percentage the correct arm is chosen\n",
    "    perc_correct = 100 * (len(av[np.where(av[:, 0] == np.argmax(arms))]) * 1. / len(av))\n",
    "    # mean reward\n",
    "    running_mean = np.mean(av[:, 1])\n",
    "    plt.scatter(i, running_mean)"
   ]
  },
  {
   "cell_type": "code",
   "execution_count": 21,
   "metadata": {
    "collapsed": true
   },
   "outputs": [],
   "source": [
    "# experiment with different numbers of arms and different values for ϵ"
   ]
  },
  {
   "cell_type": "code",
   "execution_count": 22,
   "metadata": {
    "collapsed": true
   },
   "outputs": [],
   "source": [
    "# The problem we've considered here is a stationary problem \n",
    "# because the underlying reward probability distributions for each arm do not change over time."
   ]
  },
  {
   "cell_type": "code",
   "execution_count": 23,
   "metadata": {
    "collapsed": true
   },
   "outputs": [],
   "source": [
    "# We certainly could consider a variant of this problem where this is not true, \n",
    "# a non-stationary problem. In this case, a simple modification would be \n",
    "# to weight more recent action-value pairs greater than distant ones, \n",
    "# thus if things change over time, we will be able to track them."
   ]
  },
  {
   "cell_type": "code",
   "execution_count": 29,
   "metadata": {
    "collapsed": false
   },
   "outputs": [
    {
     "data": {
      "image/png": "[encoded data removed]",
      "text/plain": [
       "<matplotlib.figure.Figure at 0x10ded4750>"
      ]
     },
     "metadata": {},
     "output_type": "display_data"
    }
   ],
   "source": [
    "n = 10\n",
    "arms = np.random.rand(n)\n",
    "eps = 0.1\n",
    "\n",
    "av = np.ones(n) # action-value\n",
    "counts = np.zeros(n) # how many times we've taken a particular action\n",
    "\n",
    "def reward(prob):\n",
    "    total = 0\n",
    "    for i in range(10):\n",
    "        if random.random() < prob:\n",
    "            total += 1\n",
    "    return total\n",
    "\n",
    "# simpler best_arm function\n",
    "def best_arm(a):\n",
    "    return np.argmax(a)\n",
    "\n",
    "plt.xlabel('Plays')\n",
    "plt.ylabel('Mean Reward')\n",
    "for i in range(500):\n",
    "    if random.random() > eps:\n",
    "        choice = best_arm(av)\n",
    "    else:\n",
    "        choice = np.where(arms == np.random.choice(arms))[0][0]\n",
    "    counts[choice] += 1\n",
    "    k = counts[choice]\n",
    "    rwd = reward(arms[choice])\n",
    "    old_avg = av[choice]\n",
    "    new_avg = old_avg + (1. / k) * (rwd - old_avg)\n",
    "    av[choice] = new_avg\n",
    "    # weighted average\n",
    "    running_mean = np.average(av, weights=np.array([counts[j] * 1. / np.sum(counts) for j in range(len(counts))]))\n",
    "    plt.scatter(i, running_mean)"
   ]
  },
  {
   "cell_type": "code",
   "execution_count": 31,
   "metadata": {
    "collapsed": false
   },
   "outputs": [],
   "source": [
    "# τ is a parameter called temperature the scales the probability distribution of actions. \n",
    "# A high temperature will tend the probabilities to be very simmilar, whereas a low temperature \n",
    "# will exaggerate differences in probabilities between actions. Selecting this parameter requires \n",
    "# an educated guess and some trial and error."
   ]
  },
  {
   "cell_type": "code",
   "execution_count": null,
   "metadata": {
    "collapsed": true
   },
   "outputs": [],
   "source": []
  },
  {
   "cell_type": "code",
   "execution_count": 32,
   "metadata": {
    "collapsed": true
   },
   "outputs": [],
   "source": [
    "# softmax"
   ]
  },
  {
   "cell_type": "code",
   "execution_count": 36,
   "metadata": {
    "collapsed": false
   },
   "outputs": [
    {
     "data": {
      "image/png": "[encoded data removed]",
      "text/plain": [
       "<matplotlib.figure.Figure at 0x10d88c750>"
      ]
     },
     "metadata": {},
     "output_type": "display_data"
    }
   ],
   "source": [
    "n = 10\n",
    "arms = np.random.rand(n)\n",
    "\n",
    "av = np.ones(n) # action-value\n",
    "counts = np.zeros(n) # how many times we've taken a particular action\n",
    "av_softmax = np.zeros(n)\n",
    "av_softmax[:] = 0.1 # initial probability\n",
    "\n",
    "def reward(prob):\n",
    "    total = 0\n",
    "    for i in range(10):\n",
    "        if random.random() < prob:\n",
    "            total += 1\n",
    "    return total\n",
    "\n",
    "tau = 1.12\n",
    "def softmax(av):\n",
    "    normalization_factor = np.sum(np.exp(av[:] / tau))\n",
    "    probs = np.zeros(n)\n",
    "    for i in range(n):\n",
    "        probs[i] = np.exp(av[i] / tau) / normalization_factor\n",
    "    return probs\n",
    "\n",
    "plt.xlabel('Plays')\n",
    "plt.ylabel('Mean Reward')\n",
    "for i in range(500):\n",
    "    choice = np.where(arms == np.random.choice(arms, p=av_softmax))[0][0]\n",
    "    counts[choice] += 1\n",
    "    k = counts[choice]\n",
    "    rwd = reward(arms[choice])\n",
    "    old_avg = av[choice]\n",
    "    new_avg = old_avg + (1. / k) * (rwd - old_avg)\n",
    "    av[choice] = new_avg\n",
    "    av_softmax = softmax(av)\n",
    "    \n",
    "    running_mean = np.average(av, weights=np.array([counts[j] * 1. / np.sum(counts) for j in range(len(counts))]))\n",
    "    plt.scatter(i, running_mean)"
   ]
  },
  {
   "cell_type": "code",
   "execution_count": 37,
   "metadata": {
    "collapsed": true
   },
   "outputs": [],
   "source": [
    "# Softmax action selection seems to do at least as well as epsilon-greedy, \n",
    "# perhaps even better; it looks like it converges on an optimal policy faster. \n",
    "# The downside to softmax is having to manually select the τ parameter. \n",
    "# Softmax here was pretty sensitive to τ and it took awhile of playing with it\n",
    "# to find a good value for it. Obviously with epsilon-greedy we had the parameter\n",
    "# epsilon to set, but choosing that parameter was much more intuitive."
   ]
  },
  {
   "cell_type": "code",
   "execution_count": null,
   "metadata": {
    "collapsed": true
   },
   "outputs": [],
   "source": []
  },
  {
   "cell_type": "code",
   "execution_count": 39,
   "metadata": {
    "collapsed": true
   },
   "outputs": [],
   "source": [
    "# The state space for 21 is much much larger than the single state in n-armed bandit.\n",
    "# In RL, a state is all information available to the agent (the decision maker) at a particular time t."
   ]
  },
  {
   "cell_type": "code",
   "execution_count": 40,
   "metadata": {
    "collapsed": true
   },
   "outputs": [],
   "source": [
    "# So what are all the possible combinations of information available to the agent (the player) in blackjack? \n",
    "# Well, the player starts with two cards, so there is the combination of all 2 playing cards. \n",
    "# Additionally, the player knows one of the two cards that the dealer has. \n",
    "# Thus, there are a lot of possible states (around 200). \n",
    "# As with any RL problem, our ultimate goal is to find the best policy to maximize our rewards."
   ]
  },
  {
   "cell_type": "code",
   "execution_count": 41,
   "metadata": {
    "collapsed": true
   },
   "outputs": [],
   "source": [
    "# Our main computational effort, therefore, is in iteratively improving our estimates for the values \n",
    "# of states or state-action pairs.\n",
    "# For example, given the cards total to 20, what is the value of hitting vs staying?"
   ]
  },
  {
   "cell_type": "code",
   "execution_count": 42,
   "metadata": {
    "collapsed": true
   },
   "outputs": [],
   "source": [
    "# Problems like the n-armed bandit problem and blackjack have a small enough state or state-action space \n",
    "# that we can record and average rewards in a lookup table, giving us the exact average rewards for \n",
    "# each state-action pair. Most interesting problems, however, have a state space that is continuous or \n",
    "# otherwise too large to use a lookup table. That's when we must use function approximation \n",
    "# (e.g. neural networks) methods to serve as our  QQ  function in determining the value of states or state-actions. "
   ]
  },
  {
   "cell_type": "code",
   "execution_count": 43,
   "metadata": {
    "collapsed": true
   },
   "outputs": [],
   "source": [
    "# This is why DeepMind's implementation actually feeds in the last 4 frames of gameplay, \n",
    "# effectively changing a non-Markov decision process into an MDP."
   ]
  },
  {
   "cell_type": "code",
   "execution_count": 44,
   "metadata": {
    "collapsed": true
   },
   "outputs": [],
   "source": [
    "# Qk(s,a)Qk(s,a) is the function that accepts an action and state and returns the value of \n",
    "# taking that action in that state at time step kk. This is fundamental to RL. \n",
    "# We need to know the relative values of every state or state-action pair."
   ]
  },
  {
   "cell_type": "code",
   "execution_count": 45,
   "metadata": {
    "collapsed": true
   },
   "outputs": [],
   "source": [
    "# π is a policy, a stochastic strategy or rule to choose action a given a state s. \n",
    "# Think of it as a function, π(s), that accepts state, s and returns the action to be taken. \n",
    "# There is a distinction between the π(s) function and a specific policy π. Our implementation \n",
    "# of π(s) as a function is often to just choose the action a in state s that has the highest \n",
    "# average return based on historical results, argmaxQ(s,a). As we gather more data and \n",
    "# these average returns become more accurate, the actual policy π may change. We may \n",
    "# start out with a policy of \"hit until total is 16 or more then stay\" but this policy \n",
    "# may change as we gather more data. Our implemented π(s) function, however, \n",
    "# is programmed by us and does not change."
   ]
  },
  {
   "cell_type": "code",
   "execution_count": 48,
   "metadata": {
    "collapsed": true
   },
   "outputs": [],
   "source": [
    "# Gt, cumulative return starting from a given state until the end of an episode."
   ]
  },
  {
   "cell_type": "code",
   "execution_count": 47,
   "metadata": {
    "collapsed": true
   },
   "outputs": [],
   "source": [
    "# Episode: the full sequence of steps leading to a terminal state and receiving a return."
   ]
  },
  {
   "cell_type": "code",
   "execution_count": 49,
   "metadata": {
    "collapsed": true
   },
   "outputs": [],
   "source": [
    "# vπ, a function that determines the value of a state given a policy π."
   ]
  },
  {
   "cell_type": "code",
   "execution_count": null,
   "metadata": {
    "collapsed": true
   },
   "outputs": [],
   "source": []
  },
  {
   "cell_type": "code",
   "execution_count": 2,
   "metadata": {
    "collapsed": true
   },
   "outputs": [],
   "source": [
    "# Monte Carlo\n",
    "# We'll use random sampling of states and state-action pairs\n",
    "# and observe rewards and then iteratively revise our policy,\n",
    "# which will hopefully **converge** on the optimal policy \n",
    "# as we explore every possible state-action couple."
   ]
  },
  {
   "cell_type": "code",
   "execution_count": 3,
   "metadata": {
    "collapsed": true
   },
   "outputs": [],
   "source": [
    "# code is functional and stateless"
   ]
  },
  {
   "cell_type": "code",
   "execution_count": 1,
   "metadata": {
    "collapsed": false
   },
   "outputs": [],
   "source": [
    "import math\n",
    "import random\n",
    "\n",
    "def random_card():\n",
    "    card = random.randint(1, 13)\n",
    "    if card > 10:\n",
    "        card = 10\n",
    "    return card\n",
    "\n",
    "def useable_ace(hand):\n",
    "    val, ace = hand\n",
    "    return ace and val + 10 <= 21\n",
    "\n",
    "def total_value(hand):\n",
    "    val, ace = hand\n",
    "    if useable_ace(hand):\n",
    "        return val + 10\n",
    "    else:\n",
    "        return val\n",
    "    \n",
    "def add_card(hand, card):\n",
    "    val, ace = hand\n",
    "    if card == 1:\n",
    "        ace = True\n",
    "    return (val + card, ace)\n",
    "\n",
    "def eval_dealer(dealer_hand):\n",
    "    while total_value(dealer_hand) < 17:\n",
    "        dealer_hand = add_card(dealer_hand, random_card())\n",
    "    return dealer_hand\n",
    "\n",
    "def play(state, dec):\n",
    "    player_hand = state[0]\n",
    "    dealer_hand = state[1]\n",
    "    if dec == 0: # 1 hit, 0 stay\n",
    "        dealer_hand = eval_dealer(dealer_hand)\n",
    "        \n",
    "        player_tot = total_value(player_hand)\n",
    "        dealer_tot = total_value(dealer_hand)\n",
    "        status = 1 # 1 game is on, 2 play won, 3 draw, 4 dealer won\n",
    "        if dealer_tot > 21 or dealer_tot < player_tot:\n",
    "            status = 2\n",
    "        elif dealer_tot == player_tot:\n",
    "            status = 3\n",
    "        elif dealer_tot > player_tot:\n",
    "            status = 4\n",
    "    elif dec == 1:\n",
    "        player_hand = add_card(player_hand, random_card())\n",
    "        dealer_hand = eval_dealer(dealer_hand)\n",
    "        \n",
    "        player_tot = total_value(player_hand)\n",
    "        dealer_tot = total_value(dealer_hand)\n",
    "        status = 1\n",
    "        if player_tot == 21:\n",
    "            if dealer_tot == 21:\n",
    "                status = 3\n",
    "            else:\n",
    "                status = 2\n",
    "        elif player_tot > 21:\n",
    "            status = 4\n",
    "        elif player_tot < 21:\n",
    "            pass # game continues\n",
    "    state = (player_hand, dealer_hand, status)\n",
    "    return state\n",
    "\n",
    "def init_game():\n",
    "    status = 1\n",
    "    player_hand = add_card((0, False), random_card())\n",
    "    player_hand = add_card(player_hand, random_card())\n",
    "    dealer_hand = add_card((0, False), random_card())\n",
    "    \n",
    "    if total_value(player_hand) == 21:\n",
    "        if total_value(dealer_hand) != 21:\n",
    "            status = 2\n",
    "        else:\n",
    "            status = 3\n",
    "            \n",
    "    state = (player_hand, dealer_hand, status)\n",
    "    return state"
   ]
  },
  {
   "cell_type": "code",
   "execution_count": 13,
   "metadata": {
    "collapsed": false
   },
   "outputs": [
    {
     "name": "stdout",
     "output_type": "stream",
     "text": [
      "((19, False), (10, False), 1)\n"
     ]
    }
   ],
   "source": [
    "state = init_game()\n",
    "print(state)"
   ]
  },
  {
   "cell_type": "code",
   "execution_count": 14,
   "metadata": {
    "collapsed": false
   },
   "outputs": [
    {
     "name": "stdout",
     "output_type": "stream",
     "text": [
      "((21, False), (20, False), 2)\n"
     ]
    }
   ],
   "source": [
    "state = play(state, 1)\n",
    "print(state)"
   ]
  },
  {
   "cell_type": "code",
   "execution_count": 16,
   "metadata": {
    "collapsed": false
   },
   "outputs": [],
   "source": [
    "# We will compress the states a bit by ignoring the useable ace boolean \n",
    "# for the dealer's hand because the dealer only shows a single card and \n",
    "# if it's an ace the player has no idea if it's useable or not, so it \n",
    "# offers no additional information to us."
   ]
  },
  {
   "cell_type": "code",
   "execution_count": 17,
   "metadata": {
    "collapsed": true
   },
   "outputs": [],
   "source": [
    "# Monte Carlo Reinforcement Learning\n",
    "# use an epsilon-greedy policy function to ensure \n",
    "# we have a good balance of exploration versus exploitation"
   ]
  },
  {
   "cell_type": "code",
   "execution_count": 18,
   "metadata": {
    "collapsed": true
   },
   "outputs": [],
   "source": [
    "# In essence, with Monte Carlo we are playing randomly initialized games, \n",
    "# sampling the state-action pair space and recording returns. In doing so, \n",
    "# we can iteratively update our policy π."
   ]
  },
  {
   "cell_type": "code",
   "execution_count": 2,
   "metadata": {
    "collapsed": true
   },
   "outputs": [],
   "source": [
    "import numpy as np\n",
    "\n",
    "def init_state_space():\n",
    "    states = []\n",
    "    for card in range(1, 11):\n",
    "        for val in range(11, 22):\n",
    "            states.append((val, False, card))\n",
    "            states.append((val, True, card))\n",
    "    return states\n",
    "\n",
    "def init_state_actions(states):\n",
    "    av = {}\n",
    "    for state in states:\n",
    "        av[(state, 0)] = 0.0\n",
    "        av[(state, 1)] = 0.0\n",
    "    return av\n",
    "\n",
    "def init_SA_count(state_actions):\n",
    "    counts = {}\n",
    "    for sa in state_actions:\n",
    "        counts[sa] = 0\n",
    "    return counts\n",
    "\n",
    "# reward = 1 for winning, 0 for draw, -1 for losing\n",
    "def calc_reward(outcome):\n",
    "    return 3 - outcome\n",
    "\n",
    "def update_Q_table(av_table, av_count, returns):\n",
    "    for key in returns:\n",
    "        av_table[key] = av_table[key] + (1. / av_count[key]) * (returns[key] - av_table[key])\n",
    "    return av_table\n",
    "\n",
    "# avg rewards - Q-value for each action given a state\n",
    "def qsv(state, av_table):\n",
    "    if (state, 0) not in av_table:\n",
    "        av_table[(state, 0)] = 0\n",
    "    if (state, 1) not in av_table:\n",
    "        av_table[(state, 1)] = 0\n",
    "    stay = av_table[(state, 0)]\n",
    "    hit = av_table[(state, 1)]\n",
    "    return np.array([stay, hit])\n",
    "\n",
    "# compress the state\n",
    "def get_RL_state(state):\n",
    "    player_hand, dealer_hand, status = state\n",
    "    player_val, player_ace = player_hand\n",
    "    return (player_val, player_ace, dealer_hand[0])"
   ]
  },
  {
   "cell_type": "code",
   "execution_count": 3,
   "metadata": {
    "collapsed": false
   },
   "outputs": [
    {
     "name": "stdout",
     "output_type": "stream",
     "text": [
      "Done\n"
     ]
    }
   ],
   "source": [
    "epochs = 5000000\n",
    "epsilon = 0.1\n",
    "\n",
    "state_space = init_state_space()\n",
    "av_table = init_state_actions(state_space)\n",
    "av_count = init_SA_count(av_table)\n",
    "\n",
    "for i in range(epochs):\n",
    "    state = init_game()\n",
    "    player_hand, dealer_hand, status = state\n",
    "    \n",
    "    while player_hand[0] < 11:\n",
    "        player_hand = add_card(player_hand, random_card())\n",
    "        state = (player_hand, dealer_hand, status)\n",
    "    rl_state = get_RL_state(state)\n",
    "    \n",
    "    returns = {}\n",
    "    while state[2] == 1:\n",
    "        act_probs = qsv(rl_state, av_table)\n",
    "        if random.random() < epsilon:\n",
    "            action = random.randint(0, 1)\n",
    "        else:\n",
    "            action = np.argmax(act_probs)\n",
    "        sa = (rl_state, action)\n",
    "        returns[sa] = 0\n",
    "        if sa not in av_count:\n",
    "            av_count[sa] = 0\n",
    "        av_count[sa] += 1\n",
    "        state = play(state, action)\n",
    "        rl_state = get_RL_state(state)\n",
    "    \n",
    "    for key in returns.keys():\n",
    "        returns[key] = calc_reward(state[2])\n",
    "        \n",
    "    av_table = update_Q_table(av_table, av_count, returns)\n",
    "print('Done')"
   ]
  },
  {
   "cell_type": "code",
   "execution_count": 4,
   "metadata": {
    "collapsed": false
   },
   "outputs": [],
   "source": [
    "import matplotlib.pyplot as plt\n",
    "from mpl_toolkits.mplot3d import Axes3D\n",
    "from matplotlib import cm\n",
    "%matplotlib inline"
   ]
  },
  {
   "cell_type": "code",
   "execution_count": 19,
   "metadata": {
    "collapsed": false
   },
   "outputs": [],
   "source": [
    "#fig = plt.figure(figsize=(8, 6))\n",
    "#ax = fig.add_subplot(111, projection='3d')\n",
    "\n",
    "#ax.set_xlabel('Dealer card')\n",
    "#ax.set_ylabel('Player sum')\n",
    "#ax.set_zlabel('State-Value')\n",
    "\n",
    "x,y,z,a = [],[],[],[]\n",
    "for key in state_space:\n",
    "    if (not key[1] and key[0] > 11 and key[2] < 21):\n",
    "        y.append(key[0])\n",
    "        x.append(key[2])\n",
    "        state_value = max([av_table[(key, 0)], av_table[(key, 1)]])\n",
    "        z.append(state_value)\n",
    "        if av_table[(key, 0)] >= av_table[(key, 1)]:\n",
    "            a.append(0)\n",
    "        else:\n",
    "            a.append(1)\n",
    "#ax.azim = 230\n",
    "#ax.plot_trisurf(x,y,z, linewidth=.02, cmap=cm.jet)"
   ]
  },
  {
   "cell_type": "code",
   "execution_count": 6,
   "metadata": {
    "collapsed": false
   },
   "outputs": [],
   "source": [
    "# Here we've covered Monte Carlo reinforcement learning methods that depending on stochastically\n",
    "# sampling the environment and iteratively improving a policy π after each episode. One \n",
    "# disadvantage of Monte Carlo methods is that we must wait until the end of an *episode* \n",
    "# to update our policy. For some types of problems (like blackjack), this is okay, but \n",
    "# in a lot of cases, it makes more sense to be able to learn at each time step (immediately \n",
    "# after each action is taken)."
   ]
  },
  {
   "cell_type": "code",
   "execution_count": 21,
   "metadata": {
    "collapsed": false
   },
   "outputs": [
    {
     "data": {
      "text/html": [
       "<div>\n",
       "<table border=\"1\" class=\"dataframe\">\n",
       "  <thead>\n",
       "    <tr style=\"text-align: right;\">\n",
       "      <th>Dealer card</th>\n",
       "      <th>1</th>\n",
       "      <th>2</th>\n",
       "      <th>3</th>\n",
       "      <th>4</th>\n",
       "      <th>5</th>\n",
       "      <th>6</th>\n",
       "      <th>7</th>\n",
       "      <th>8</th>\n",
       "      <th>9</th>\n",
       "      <th>10</th>\n",
       "    </tr>\n",
       "    <tr>\n",
       "      <th>Player sum</th>\n",
       "      <th></th>\n",
       "      <th></th>\n",
       "      <th></th>\n",
       "      <th></th>\n",
       "      <th></th>\n",
       "      <th></th>\n",
       "      <th></th>\n",
       "      <th></th>\n",
       "      <th></th>\n",
       "      <th></th>\n",
       "    </tr>\n",
       "  </thead>\n",
       "  <tbody>\n",
       "    <tr>\n",
       "      <th>12</th>\n",
       "      <td>1</td>\n",
       "      <td>1</td>\n",
       "      <td>1</td>\n",
       "      <td>1</td>\n",
       "      <td>1</td>\n",
       "      <td>1</td>\n",
       "      <td>1</td>\n",
       "      <td>1</td>\n",
       "      <td>1</td>\n",
       "      <td>1</td>\n",
       "    </tr>\n",
       "    <tr>\n",
       "      <th>13</th>\n",
       "      <td>1</td>\n",
       "      <td>1</td>\n",
       "      <td>1</td>\n",
       "      <td>1</td>\n",
       "      <td>0</td>\n",
       "      <td>0</td>\n",
       "      <td>1</td>\n",
       "      <td>1</td>\n",
       "      <td>1</td>\n",
       "      <td>1</td>\n",
       "    </tr>\n",
       "    <tr>\n",
       "      <th>14</th>\n",
       "      <td>1</td>\n",
       "      <td>0</td>\n",
       "      <td>0</td>\n",
       "      <td>0</td>\n",
       "      <td>0</td>\n",
       "      <td>0</td>\n",
       "      <td>1</td>\n",
       "      <td>1</td>\n",
       "      <td>1</td>\n",
       "      <td>1</td>\n",
       "    </tr>\n",
       "    <tr>\n",
       "      <th>15</th>\n",
       "      <td>1</td>\n",
       "      <td>0</td>\n",
       "      <td>0</td>\n",
       "      <td>0</td>\n",
       "      <td>0</td>\n",
       "      <td>0</td>\n",
       "      <td>1</td>\n",
       "      <td>1</td>\n",
       "      <td>1</td>\n",
       "      <td>1</td>\n",
       "    </tr>\n",
       "    <tr>\n",
       "      <th>16</th>\n",
       "      <td>1</td>\n",
       "      <td>0</td>\n",
       "      <td>0</td>\n",
       "      <td>0</td>\n",
       "      <td>0</td>\n",
       "      <td>0</td>\n",
       "      <td>1</td>\n",
       "      <td>1</td>\n",
       "      <td>1</td>\n",
       "      <td>1</td>\n",
       "    </tr>\n",
       "    <tr>\n",
       "      <th>17</th>\n",
       "      <td>0</td>\n",
       "      <td>0</td>\n",
       "      <td>0</td>\n",
       "      <td>0</td>\n",
       "      <td>0</td>\n",
       "      <td>0</td>\n",
       "      <td>0</td>\n",
       "      <td>0</td>\n",
       "      <td>0</td>\n",
       "      <td>0</td>\n",
       "    </tr>\n",
       "    <tr>\n",
       "      <th>18</th>\n",
       "      <td>0</td>\n",
       "      <td>0</td>\n",
       "      <td>0</td>\n",
       "      <td>0</td>\n",
       "      <td>0</td>\n",
       "      <td>0</td>\n",
       "      <td>0</td>\n",
       "      <td>0</td>\n",
       "      <td>0</td>\n",
       "      <td>0</td>\n",
       "    </tr>\n",
       "    <tr>\n",
       "      <th>19</th>\n",
       "      <td>0</td>\n",
       "      <td>0</td>\n",
       "      <td>0</td>\n",
       "      <td>0</td>\n",
       "      <td>0</td>\n",
       "      <td>0</td>\n",
       "      <td>0</td>\n",
       "      <td>0</td>\n",
       "      <td>0</td>\n",
       "      <td>0</td>\n",
       "    </tr>\n",
       "    <tr>\n",
       "      <th>20</th>\n",
       "      <td>0</td>\n",
       "      <td>0</td>\n",
       "      <td>0</td>\n",
       "      <td>0</td>\n",
       "      <td>0</td>\n",
       "      <td>0</td>\n",
       "      <td>0</td>\n",
       "      <td>0</td>\n",
       "      <td>0</td>\n",
       "      <td>0</td>\n",
       "    </tr>\n",
       "    <tr>\n",
       "      <th>21</th>\n",
       "      <td>0</td>\n",
       "      <td>0</td>\n",
       "      <td>0</td>\n",
       "      <td>0</td>\n",
       "      <td>0</td>\n",
       "      <td>0</td>\n",
       "      <td>0</td>\n",
       "      <td>0</td>\n",
       "      <td>0</td>\n",
       "      <td>0</td>\n",
       "    </tr>\n",
       "  </tbody>\n",
       "</table>\n",
       "</div>"
      ],
      "text/plain": [
       "Dealer card  1   2   3   4   5   6   7   8   9   10\n",
       "Player sum                                         \n",
       "12            1   1   1   1   1   1   1   1   1   1\n",
       "13            1   1   1   1   0   0   1   1   1   1\n",
       "14            1   0   0   0   0   0   1   1   1   1\n",
       "15            1   0   0   0   0   0   1   1   1   1\n",
       "16            1   0   0   0   0   0   1   1   1   1\n",
       "17            0   0   0   0   0   0   0   0   0   0\n",
       "18            0   0   0   0   0   0   0   0   0   0\n",
       "19            0   0   0   0   0   0   0   0   0   0\n",
       "20            0   0   0   0   0   0   0   0   0   0\n",
       "21            0   0   0   0   0   0   0   0   0   0"
      ]
     },
     "execution_count": 21,
     "metadata": {},
     "output_type": "execute_result"
    }
   ],
   "source": [
    "import pandas as pd\n",
    "strategy = pd.DataFrame(zip(x, y, z, a), columns=['Dealer card', 'Player sum', 'State-Value', 'Policy'])\n",
    "strategy.pivot(index='Player sum', columns='Dealer card', values='Policy')"
   ]
  },
  {
   "cell_type": "code",
   "execution_count": 22,
   "metadata": {
    "collapsed": false
   },
   "outputs": [],
   "source": [
    "# The most important thing to learn from all of this is that in \n",
    "# essentially any RL method, our goal is to find an optimal Q function. "
   ]
  },
  {
   "cell_type": "code",
   "execution_count": 23,
   "metadata": {
    "collapsed": false
   },
   "outputs": [],
   "source": [
    "# In the next part, I will abandon tabular learning methods and cover \n",
    "# Q-learning (a type of temporal difference (TD) algorithm) using a neural\n",
    "# network as our Q function (what we've all been waiting for)."
   ]
  },
  {
   "cell_type": "code",
   "execution_count": null,
   "metadata": {
    "collapsed": true
   },
   "outputs": [],
   "source": []
  },
  {
   "cell_type": "code",
   "execution_count": 24,
   "metadata": {
    "collapsed": true
   },
   "outputs": [],
   "source": [
    "# Neural nets provide a functional approximator."
   ]
  },
  {
   "cell_type": "code",
   "execution_count": 25,
   "metadata": {
    "collapsed": true
   },
   "outputs": [],
   "source": [
    "# Our Q function actually looks like this: Q(s,a,θ) where θ is \n",
    "# a vector of parameters. And instead of iteratively updating values \n",
    "# in a table, we will iteratively update the θ parameters of \n",
    "# our neural network so that it learns to provide us with better \n",
    "# estimates of state-action values."
   ]
  },
  {
   "cell_type": "markdown",
   "metadata": {},
   "source": [
    "target: r_t+1 + γ ∗ maxQ(s′, a′) for non-terminal states\n",
    "        r_t+1 for terminal states (last state in an episode)"
   ]
  },
  {
   "cell_type": "code",
   "execution_count": 27,
   "metadata": {
    "collapsed": true
   },
   "outputs": [],
   "source": [
    "# γ is a parameter 0-→1 that is called the discount factor. \n",
    "# Basically it determines how much each future reward is taken \n",
    "# into consideration for updating our Q-value."
   ]
  },
  {
   "cell_type": "code",
   "execution_count": 28,
   "metadata": {
    "collapsed": true
   },
   "outputs": [],
   "source": [
    "# If γ is close to 0, we heavily discount future rewards and \n",
    "# thus mostly care about immediate rewards."
   ]
  },
  {
   "cell_type": "code",
   "execution_count": 29,
   "metadata": {
    "collapsed": true
   },
   "outputs": [],
   "source": [
    "# s′ refers to the new state after having taken action a \n",
    "# and a′ refers to the next actions possible in this new state."
   ]
  },
  {
   "cell_type": "code",
   "execution_count": 30,
   "metadata": {
    "collapsed": true
   },
   "outputs": [],
   "source": [
    "# So maxQ(s′, a′) means we calculate all the Q-values for each \n",
    "# state-action pair in the new state, and take the maximium value \n",
    "# to use in our new value update. \n",
    "# (Note I may use s′ and a′ interchangeably with s_t+1 and a_t+1.)"
   ]
  },
  {
   "cell_type": "code",
   "execution_count": 31,
   "metadata": {
    "collapsed": true
   },
   "outputs": [],
   "source": [
    "# In on-policy methods we iteratively learn about state values \n",
    "# at the same time that we improve our policy. In other words, \n",
    "# the updates to our state values depend on the policy. "
   ]
  },
  {
   "cell_type": "code",
   "execution_count": 33,
   "metadata": {
    "collapsed": true
   },
   "outputs": [],
   "source": [
    "# In contrast, off-policy methods do not depend on the policy \n",
    "# to update the value function. Q-learning is an **off-policy** method. \n",
    "# It's advantageous because with off-policy methods, we can follow \n",
    "# one policy while learning about __another__."
   ]
  },
  {
   "cell_type": "code",
   "execution_count": 34,
   "metadata": {
    "collapsed": true
   },
   "outputs": [],
   "source": [
    "# For example, with Q-learning, we could always take completely random\n",
    "# actions and yet we would still learn about another policy function \n",
    "# of taking the best actions in every state. If there's ever a π \n",
    "# referenced in the value update part of the algorithm then it's \n",
    "# an on-policy method."
   ]
  },
  {
   "cell_type": "code",
   "execution_count": 1,
   "metadata": {
    "collapsed": true
   },
   "outputs": [],
   "source": [
    "import numpy as np\n",
    "\n",
    "def rand_pair(s, e):\n",
    "    return np.random.randint(s, e), np.random.randint(s, e)\n",
    "\n",
    "# finds an array in the \"depth\" dimension of the grid\n",
    "def find_loc(state, obj):\n",
    "    for i in range(4):\n",
    "        for j in range(4):\n",
    "            if all(state[i, j] == obj):\n",
    "                return i, j\n",
    "            \n",
    "# initialize stationary grid, all items are placed deterministically\n",
    "def init_grid():\n",
    "    state = np.zeros((4, 4, 4))\n",
    "    # place player\n",
    "    state[0, 1] = np.array([0, 0, 0, 1])\n",
    "    # place wall\n",
    "    state[2, 2] = np.array([0, 0, 1, 0])\n",
    "    # place pit\n",
    "    state[1, 1] = np.array([0, 1, 0, 0])\n",
    "    # place goal\n",
    "    state[3, 3] = np.array([1, 0, 0, 0])\n",
    "    \n",
    "    return state\n",
    "\n",
    "# initialize player in random location, but keep wall, goal and pit stationary\n",
    "def init_grid_player():\n",
    "    state = np.zeros((4, 4, 4))\n",
    "    # place player\n",
    "    state[rand_pair(0, 4)] = np.array([0, 0, 0, 1])\n",
    "    # place wall\n",
    "    state[2, 2] = np.array([0, 0, 1, 0])\n",
    "    # place pit\n",
    "    state[1, 1] = np.array([0, 1, 0, 0])\n",
    "    # place goal\n",
    "    state[1, 2] = np.array([1, 0, 0, 0])\n",
    "    \n",
    "    # find grid position of player (agent)\n",
    "    a = find_loc(state, np.array([0, 0, 0, 1])) \n",
    "    # find wall\n",
    "    w = find_loc(state, np.array([0, 0, 1, 0]))\n",
    "    # find goal\n",
    "    g = find_loc(state, np.array([1, 0, 0, 0]))\n",
    "    # find pit\n",
    "    p = find_loc(state, np.array([0, 1, 0, 0]))\n",
    "    \n",
    "    if not all([a, w, g, p]):\n",
    "        print('Invalid grid. Rebuilding...')\n",
    "        return init_grid_player()\n",
    "    \n",
    "    return state\n",
    "\n",
    "# initialize grid so that goal, pit, wall, player are all randomly placed\n",
    "def init_grid_rand():\n",
    "    state = np.zeros((4, 4, 4))\n",
    "    # place player\n",
    "    state[rand_pair(0, 4)] = np.array([0, 0, 0, 1])\n",
    "    # place wall\n",
    "    state[rand_pair(0, 4)] = np.array([0, 0, 1, 0])\n",
    "    # place pit\n",
    "    state[rand_pair(0, 4)] = np.array([0, 1, 0, 0])\n",
    "    # place goal\n",
    "    state[rand_pair(0, 4)] = np.array([1, 0, 0, 0])\n",
    "    \n",
    "    a = find_loc(state, np.array([0, 0, 0, 1]))\n",
    "    w = find_loc(state, np.array([0, 0, 1, 0]))\n",
    "    g = find_loc(state, np.array([1, 0, 0, 0]))\n",
    "    p = find_loc(state, np.array([0, 1, 0, 0]))\n",
    "    \n",
    "    # if any of the \"objects\" are superimposed, just call the function again to re-place\n",
    "    if not all([a, w, g, p]):\n",
    "        print('Invalid grid. Rebuilding...')\n",
    "        return init_grid_rand()\n",
    "    \n",
    "    return state"
   ]
  },
  {
   "cell_type": "code",
   "execution_count": 2,
   "metadata": {
    "collapsed": false
   },
   "outputs": [],
   "source": [
    "def make_move(state, action):\n",
    "    player_loc = find_loc(state, np.array([0, 0, 0, 1]))\n",
    "    wall_loc = find_loc(state, np.array([0, 0, 1, 0]))\n",
    "    goal_loc = find_loc(state, np.array([1, 0, 0, 0]))\n",
    "    pit_loc = find_loc(state, np.array([0, 1, 0, 0]))\n",
    "    state = np.zeros((4, 4, 4))\n",
    "    \n",
    "    # up --> row - 1\n",
    "    if action == 0:\n",
    "        new_loc = (player_loc[0] - 1, player_loc[1])\n",
    "    # down --> row + 1\n",
    "    elif action == 1:\n",
    "        new_loc = (player_loc[0] + 1, player_loc[1])\n",
    "    # left --> column - 1\n",
    "    elif action == 2:\n",
    "        new_loc = (player_loc[0], player_loc[1] - 1)\n",
    "    # right --> column + 1\n",
    "    elif action == 3:\n",
    "        new_loc = (player_loc[0], player_loc[1] + 1)\n",
    "        \n",
    "    if new_loc != wall_loc:\n",
    "        if (np.array(new_loc) <= (3, 3)).all() and (np.array(new_loc) >= (0, 0)).all():\n",
    "            state[new_loc][3] = 1\n",
    "                \n",
    "    new_player_loc = find_loc(state, np.array([0, 0, 0, 1]))\n",
    "    if not new_player_loc:\n",
    "        state[player_loc] = np.array([0, 0, 0, 1])\n",
    "    \n",
    "    state[pit_loc][1] = 1\n",
    "    state[wall_loc][2] = 1\n",
    "    state[goal_loc][0] = 1\n",
    "    \n",
    "    return state"
   ]
  },
  {
   "cell_type": "code",
   "execution_count": 3,
   "metadata": {
    "collapsed": false
   },
   "outputs": [],
   "source": [
    "def get_loc(state, level):\n",
    "    for i in range(4):\n",
    "        for j in range(4):\n",
    "            if state[i, j][level] == 1:\n",
    "                return i, j\n",
    "            \n",
    "def get_reward(state):\n",
    "    player_loc = get_loc(state, 3)\n",
    "    pit_loc = get_loc(state, 1)\n",
    "    goal_loc = get_loc(state, 0)\n",
    "    \n",
    "    if player_loc == pit_loc:\n",
    "        return -10\n",
    "    elif player_loc == goal_loc:\n",
    "        return 10\n",
    "    else:\n",
    "        return -1\n",
    "    \n",
    "def disp_grid(state):\n",
    "    grid = np.zeros((4, 4), dtype='<U2')\n",
    "    player_loc = find_loc(state, np.array([0, 0, 0, 1]))\n",
    "    wall_loc = find_loc(state, np.array([0, 0, 1, 0]))\n",
    "    goal_loc = find_loc(state, np.array([1, 0, 0, 0]))\n",
    "    pit_loc = find_loc(state, np.array([0, 1, 0, 0]))\n",
    "        \n",
    "    for i in range(4):\n",
    "        for j in range(4):\n",
    "            grid[i, j] = ' '\n",
    "            \n",
    "    if player_loc:\n",
    "        grid[player_loc] = 'P'\n",
    "    if wall_loc:\n",
    "        grid[wall_loc] = 'W'\n",
    "    if goal_loc:\n",
    "        grid[goal_loc] = '+'\n",
    "    if pit_loc:\n",
    "        grid[pit_loc] = '-'\n",
    "        \n",
    "    return grid"
   ]
  },
  {
   "cell_type": "code",
   "execution_count": 69,
   "metadata": {
    "collapsed": false
   },
   "outputs": [
    {
     "name": "stdout",
     "output_type": "stream",
     "text": [
      "Invalid grid. Rebuilding...\n"
     ]
    },
    {
     "data": {
      "text/plain": [
       "array([[u' ', u'P', u' ', u' '],\n",
       "       [u'-', u' ', u' ', u' '],\n",
       "       [u' ', u' ', u' ', u'+'],\n",
       "       [u' ', u'W', u' ', u' ']], \n",
       "      dtype='<U2')"
      ]
     },
     "execution_count": 69,
     "metadata": {},
     "output_type": "execute_result"
    }
   ],
   "source": [
    "state = init_grid_rand()\n",
    "disp_grid(state)"
   ]
  },
  {
   "cell_type": "code",
   "execution_count": 73,
   "metadata": {
    "collapsed": false
   },
   "outputs": [
    {
     "name": "stdout",
     "output_type": "stream",
     "text": [
      "Reward: 10\n"
     ]
    },
    {
     "data": {
      "text/plain": [
       "array([[u' ', u' ', u' ', u' '],\n",
       "       [u'-', u' ', u' ', u' '],\n",
       "       [u' ', u' ', u' ', u' '],\n",
       "       [u' ', u'W', u' ', u' ']], \n",
       "      dtype='<U2')"
      ]
     },
     "execution_count": 73,
     "metadata": {},
     "output_type": "execute_result"
    }
   ],
   "source": [
    "state = make_move(state, 3)\n",
    "state = make_move(state, 3)\n",
    "state = make_move(state, 1)\n",
    "state = make_move(state, 1)\n",
    "print('Reward: %s' % get_reward(state))\n",
    "disp_grid(state)"
   ]
  },
  {
   "cell_type": "code",
   "execution_count": null,
   "metadata": {
    "collapsed": false
   },
   "outputs": [],
   "source": []
  },
  {
   "cell_type": "code",
   "execution_count": 5,
   "metadata": {
    "collapsed": false
   },
   "outputs": [],
   "source": [
    "from keras.models import Sequential\n",
    "from keras.layers.core import Dense, Dropout, Activation\n",
    "from keras.optimizers import RMSprop"
   ]
  },
  {
   "cell_type": "code",
   "execution_count": 6,
   "metadata": {
    "collapsed": false
   },
   "outputs": [],
   "source": [
    "# An input layer of 64 units (because our state has a total of \n",
    "# 64 elements, remember its a 4x4x4 numpy array), 2 hidden layers \n",
    "# of 164 and 150 units, and an output layer of 4, one for each of \n",
    "# our possible actions (up, down, left, right) [in that order].\n",
    "\n",
    "model = Sequential()\n",
    "model.add(Dense(164, init='lecun_uniform', input_shape=(64,)))\n",
    "model.add(Activation('relu'))\n",
    "model.add(Dropout(0.2))\n",
    "\n",
    "model.add(Dense(150, init='lecun_uniform'))\n",
    "model.add(Activation('relu'))\n",
    "model.add(Dropout(0.2))\n",
    "\n",
    "model.add(Dense(4, init='lecun_uniform'))\n",
    "model.add(Activation('linear')) # real-valued outputs\n",
    "\n",
    "rms = RMSprop()\n",
    "model.compile(loss='mse', optimizer=rms)"
   ]
  },
  {
   "cell_type": "code",
   "execution_count": 13,
   "metadata": {
    "collapsed": false
   },
   "outputs": [
    {
     "data": {
      "text/plain": [
       "array([[-0.04001465, -0.13536021, -0.18622869,  0.18035182]], dtype=float32)"
      ]
     },
     "execution_count": 13,
     "metadata": {},
     "output_type": "execute_result"
    }
   ],
   "source": [
    "state = init_grid_rand()\n",
    "model.predict(state.reshape(1, 64), batch_size=1)"
   ]
  },
  {
   "cell_type": "code",
   "execution_count": null,
   "metadata": {
    "collapsed": false
   },
   "outputs": [
    {
     "name": "stdout",
     "output_type": "stream",
     "text": [
      "Game #: 839\n",
      "Epoch 1/1\n",
      "\r",
      "1/1 [==============================] - 0s - loss: 0.3526"
     ]
    }
   ],
   "source": [
    "from IPython.display import clear_output\n",
    "import random\n",
    "\n",
    "epochs = 1000\n",
    "gamma = 0.9 # coz it may take several moves to reach goal\n",
    "epsilon = 1\n",
    "\n",
    "for i in range(epochs):\n",
    "    state = init_grid()\n",
    "    status = 1 # game in progress\n",
    "    \n",
    "    while (status) == 1:\n",
    "        # run Q function on S to get Q values for all possible actions\n",
    "        qval = model.predict(state.reshape(1, 64), batch_size=1)\n",
    "        if random.random() < epsilon: # explore\n",
    "            action = np.random.randint(0, 4)\n",
    "        else: # exploit\n",
    "            action = np.argmax(qval)\n",
    "        # take action, observe new state S'\n",
    "        new_state = make_move(state, action)\n",
    "        # observe reward\n",
    "        reward = get_reward(new_state)\n",
    "        # get max_Q(S', a)\n",
    "        new_Q = model.predict(new_state.reshape(1, 64), batch_size=1)\n",
    "        max_Q = np.max(new_Q)\n",
    "        y = np.zeros((1, 4))\n",
    "        y[:] = qval[:]\n",
    "        if reward == -1: # non-terminal\n",
    "            update = reward + gamma * max_Q\n",
    "        else: # terminal\n",
    "            update = reward\n",
    "        y[0][action] = update # target output\n",
    "        print('Game #: %s' % i)\n",
    "        model.fit(state.reshape(1, 64), y, batch_size=1, nb_epoch=1, verbose=1)\n",
    "        state = new_state\n",
    "        if reward != -1:\n",
    "            status = 0\n",
    "        clear_output(wait=True)\n",
    "    if epsilon > 0.1:\n",
    "        epsilon -= (1. / epochs)"
   ]
  },
  {
   "cell_type": "code",
   "execution_count": 11,
   "metadata": {
    "collapsed": false
   },
   "outputs": [],
   "source": [
    "def test_algo(init=0):\n",
    "    i = 0\n",
    "    if init == 0:\n",
    "        state = init_grid()\n",
    "    elif init == 1:\n",
    "        state = init_grid_player()\n",
    "    elif init == 2:\n",
    "        state = init_grid_rand()\n",
    "        \n",
    "    print('Initial State:')\n",
    "    print(disp_grid(state))\n",
    "    status = 1\n",
    "    \n",
    "    while status == 1:\n",
    "        qval = model.predict(state.reshape(1, 64), batch_size=1)\n",
    "        action = np.argmax(qval)\n",
    "        print('Move #: %s; Taking action: %s' % (i, action))\n",
    "        \n",
    "        state = make_move(state, action)\n",
    "        print(disp_grid(state))\n",
    "        \n",
    "        reward = get_reward(state)\n",
    "        if reward != -1:\n",
    "            status = 0\n",
    "            print('Reward: %s' % reward)\n",
    "        \n",
    "        i += 1\n",
    "        \n",
    "        if i > 10:\n",
    "            print('Game lost; too many moves.')\n",
    "            break"
   ]
  },
  {
   "cell_type": "code",
   "execution_count": 24,
   "metadata": {
    "collapsed": false
   },
   "outputs": [
    {
     "name": "stdout",
     "output_type": "stream",
     "text": [
      "Initial State:\n",
      "[[u' ' u'P' u' ' u' ']\n",
      " [u' ' u'-' u' ' u' ']\n",
      " [u' ' u' ' u'W' u' ']\n",
      " [u' ' u' ' u' ' u'+']]\n",
      "Move #: 0; Taking action: 3\n",
      "[[u' ' u' ' u'P' u' ']\n",
      " [u' ' u'-' u' ' u' ']\n",
      " [u' ' u' ' u'W' u' ']\n",
      " [u' ' u' ' u' ' u'+']]\n",
      "Move #: 1; Taking action: 1\n",
      "[[u' ' u' ' u' ' u' ']\n",
      " [u' ' u'-' u'P' u' ']\n",
      " [u' ' u' ' u'W' u' ']\n",
      " [u' ' u' ' u' ' u'+']]\n",
      "Move #: 2; Taking action: 3\n",
      "[[u' ' u' ' u' ' u' ']\n",
      " [u' ' u'-' u' ' u'P']\n",
      " [u' ' u' ' u'W' u' ']\n",
      " [u' ' u' ' u' ' u'+']]\n",
      "Move #: 3; Taking action: 1\n",
      "[[u' ' u' ' u' ' u' ']\n",
      " [u' ' u'-' u' ' u' ']\n",
      " [u' ' u' ' u'W' u'P']\n",
      " [u' ' u' ' u' ' u'+']]\n",
      "Move #: 4; Taking action: 1\n",
      "[[u' ' u' ' u' ' u' ']\n",
      " [u' ' u'-' u' ' u' ']\n",
      " [u' ' u' ' u'W' u' ']\n",
      " [u' ' u' ' u' ' u' ']]\n",
      "Reward: 10\n"
     ]
    }
   ],
   "source": [
    "test_algo(init=0)"
   ]
  },
  {
   "cell_type": "code",
   "execution_count": 25,
   "metadata": {
    "collapsed": true
   },
   "outputs": [],
   "source": [
    "# soooooooo magical..."
   ]
  },
  {
   "cell_type": "code",
   "execution_count": null,
   "metadata": {
    "collapsed": true
   },
   "outputs": [],
   "source": []
  },
  {
   "cell_type": "code",
   "execution_count": 26,
   "metadata": {
    "collapsed": true
   },
   "outputs": [],
   "source": [
    "# catastrophic forgetting:\n",
    "#     a push-pull between very similar state-actions \n",
    "#    (but with divergent targets) that results in this \n",
    "#    inability to properly learn anything.\n",
    "# experience replay:\n",
    "#     basically gives us minibatch updating in an \n",
    "#     online learning scheme."
   ]
  },
  {
   "cell_type": "code",
   "execution_count": 27,
   "metadata": {
    "collapsed": true
   },
   "outputs": [],
   "source": [
    "# Thus, in addition to learning the action-value for the action \n",
    "# we just took, we're also going to use a random sample of our \n",
    "# past experiences to train on to prevent catastrophic forgetting."
   ]
  },
  {
   "cell_type": "code",
   "execution_count": 34,
   "metadata": {
    "collapsed": false
   },
   "outputs": [
    {
     "name": "stdout",
     "output_type": "stream",
     "text": [
      "Game #: 2999\n",
      "Epoch 1/1\n",
      "40/40 [==============================] - 0s - loss: 0.2800\n"
     ]
    }
   ],
   "source": [
    "model.compile(loss='mse', optimizer=rms) # reset weights\n",
    "epochs = 3000\n",
    "gamma = 0.975\n",
    "epsilon = 1\n",
    "batch_size = 40\n",
    "buffer_size = 80\n",
    "replay = [] # (S, A, R, S')\n",
    "h = 0\n",
    "\n",
    "for i in range(epochs):\n",
    "    state = init_grid_player()\n",
    "    status = 1\n",
    "    \n",
    "    while status == 1:\n",
    "        qval = model.predict(state.reshape(1, 64), batch_size=1)\n",
    "        if random.random() < epsilon:\n",
    "            action = np.random.randint(0, 4)\n",
    "        else:\n",
    "            action = np.argmax(qval)\n",
    "        new_state = make_move(state, action)\n",
    "        reward = get_reward(new_state)\n",
    "        \n",
    "        # experience replay\n",
    "        if len(replay) < buffer_size:\n",
    "            replay.append((state, action, reward, new_state))\n",
    "        else:\n",
    "            if h < buffer_size - 1:\n",
    "                h += 1\n",
    "            else:\n",
    "                h = 0 # circular buffer\n",
    "            replay[h] = (state, action, reward, new_state)\n",
    "            \n",
    "            # randomly sample our experience replay memory\n",
    "            minibatch = random.sample(replay, batch_size)\n",
    "            X_train = []\n",
    "            y_train = []\n",
    "            \n",
    "            for memory in minibatch:\n",
    "                old_state, action, reward, new_state = memory\n",
    "                old_qval = model.predict(old_state.reshape(1, 64), batch_size=1)\n",
    "                new_Q = model.predict(new_state.reshape(1, 64), batch_size=1)\n",
    "                max_Q = np.max(new_Q)\n",
    "                y = np.zeros((1, 4))\n",
    "                \n",
    "                if reward == -1:\n",
    "                    update = reward + gamma * max_Q\n",
    "                else:\n",
    "                    update = reward\n",
    "                y[0][action] = update\n",
    "                X_train.append(old_state.reshape(64))\n",
    "                y_train.append(y.reshape(4))\n",
    "                \n",
    "            X_train = np.array(X_train)\n",
    "            y_train = np.array(y_train)\n",
    "            print('Game #: %s' % i)\n",
    "            \n",
    "            model.fit(X_train, y_train, batch_size=batch_size, nb_epoch=1, verbose=1)\n",
    "            state = new_state\n",
    "        if reward != -1:\n",
    "            status = 0\n",
    "        clear_output(wait=True)\n",
    "    if epsilon > 0.1:\n",
    "        epsilon -= (1. / epochs)"
   ]
  },
  {
   "cell_type": "code",
   "execution_count": 35,
   "metadata": {
    "collapsed": false
   },
   "outputs": [
    {
     "name": "stdout",
     "output_type": "stream",
     "text": [
      "Invalid grid. Rebuilding...\n",
      "Initial State:\n",
      "[[u' ' u' ' u' ' u' ']\n",
      " [u' ' u'-' u'+' u' ']\n",
      " [u' ' u' ' u'W' u' ']\n",
      " [u' ' u'P' u' ' u' ']]\n",
      "Move #: 0; Taking action: 3\n",
      "[[u' ' u' ' u' ' u' ']\n",
      " [u' ' u'-' u'+' u' ']\n",
      " [u' ' u' ' u'W' u' ']\n",
      " [u' ' u' ' u'P' u' ']]\n",
      "Move #: 1; Taking action: 3\n",
      "[[u' ' u' ' u' ' u' ']\n",
      " [u' ' u'-' u'+' u' ']\n",
      " [u' ' u' ' u'W' u' ']\n",
      " [u' ' u' ' u' ' u'P']]\n",
      "Move #: 2; Taking action: 0\n",
      "[[u' ' u' ' u' ' u' ']\n",
      " [u' ' u'-' u'+' u' ']\n",
      " [u' ' u' ' u'W' u'P']\n",
      " [u' ' u' ' u' ' u' ']]\n",
      "Move #: 3; Taking action: 0\n",
      "[[u' ' u' ' u' ' u' ']\n",
      " [u' ' u'-' u'+' u'P']\n",
      " [u' ' u' ' u'W' u' ']\n",
      " [u' ' u' ' u' ' u' ']]\n",
      "Move #: 4; Taking action: 2\n",
      "[[u' ' u' ' u' ' u' ']\n",
      " [u' ' u'-' u' ' u' ']\n",
      " [u' ' u' ' u'W' u' ']\n",
      " [u' ' u' ' u' ' u' ']]\n",
      "Reward: 10\n"
     ]
    }
   ],
   "source": [
    "test_algo(1)"
   ]
  },
  {
   "cell_type": "code",
   "execution_count": 36,
   "metadata": {
    "collapsed": true
   },
   "outputs": [],
   "source": [
    "# magical !"
   ]
  },
  {
   "cell_type": "code",
   "execution_count": 38,
   "metadata": {
    "collapsed": false
   },
   "outputs": [
    {
     "name": "stdout",
     "output_type": "stream",
     "text": [
      "Initial State:\n",
      "[[u' ' u' ' u' ' u'P']\n",
      " [u' ' u'-' u'+' u' ']\n",
      " [u' ' u' ' u'W' u' ']\n",
      " [u' ' u' ' u' ' u' ']]\n",
      "Move #: 0; Taking action: 2\n",
      "[[u' ' u' ' u'P' u' ']\n",
      " [u' ' u'-' u'+' u' ']\n",
      " [u' ' u' ' u'W' u' ']\n",
      " [u' ' u' ' u' ' u' ']]\n",
      "Move #: 1; Taking action: 1\n",
      "[[u' ' u' ' u' ' u' ']\n",
      " [u' ' u'-' u' ' u' ']\n",
      " [u' ' u' ' u'W' u' ']\n",
      " [u' ' u' ' u' ' u' ']]\n",
      "Reward: 10\n"
     ]
    }
   ],
   "source": [
    "test_algo(1)"
   ]
  },
  {
   "cell_type": "code",
   "execution_count": 39,
   "metadata": {
    "collapsed": true
   },
   "outputs": [],
   "source": [
    "# need GPU to train the hardest variant with more epochs (>50K)"
   ]
  },
  {
   "cell_type": "code",
   "execution_count": 9,
   "metadata": {
    "collapsed": false
   },
   "outputs": [
    {
     "name": "stdout",
     "output_type": "stream",
     "text": [
      "Game #: 49999\n",
      "Epoch 1/1\n",
      "40/40 [==============================] - 0s - loss: 2.0177\n"
     ]
    }
   ],
   "source": [
    "import random\n",
    "import numpy as np\n",
    "from IPython.display import clear_output\n",
    "\n",
    "model.compile(loss='mse', optimizer=rms) # reset weights\n",
    "epochs = 50000\n",
    "gamma = 0.975\n",
    "epsilon = 1\n",
    "batch_size = 40\n",
    "buffer_size = 80\n",
    "replay = [] # (S, A, R, S')\n",
    "h = 0\n",
    "\n",
    "for i in range(epochs):\n",
    "    state = init_grid_rand()\n",
    "    status = 1\n",
    "    \n",
    "    while status == 1:\n",
    "        qval = model.predict(state.reshape(1, 64), batch_size=1)\n",
    "        if random.random() < epsilon:\n",
    "            action = np.random.randint(0, 4)\n",
    "        else:\n",
    "            action = np.argmax(qval)\n",
    "        new_state = make_move(state, action)\n",
    "        reward = get_reward(new_state)\n",
    "        \n",
    "        # experience replay\n",
    "        if len(replay) < buffer_size:\n",
    "            replay.append((state, action, reward, new_state))\n",
    "        else:\n",
    "            if h < buffer_size - 1:\n",
    "                h += 1\n",
    "            else:\n",
    "                h = 0 # circular buffer\n",
    "            replay[h] = (state, action, reward, new_state)\n",
    "            \n",
    "            # randomly sample our experience replay memory\n",
    "            minibatch = random.sample(replay, batch_size)\n",
    "            X_train = []\n",
    "            y_train = []\n",
    "            \n",
    "            for memory in minibatch:\n",
    "                old_state, action, reward, new_state = memory\n",
    "                old_qval = model.predict(old_state.reshape(1, 64), batch_size=1)\n",
    "                new_Q = model.predict(new_state.reshape(1, 64), batch_size=1)\n",
    "                max_Q = np.max(new_Q)\n",
    "                y = np.zeros((1, 4))\n",
    "                \n",
    "                if reward == -1:\n",
    "                    update = reward + gamma * max_Q\n",
    "                else:\n",
    "                    update = reward\n",
    "                y[0][action] = update\n",
    "                X_train.append(old_state.reshape(64))\n",
    "                y_train.append(y.reshape(4))\n",
    "                \n",
    "            X_train = np.array(X_train)\n",
    "            y_train = np.array(y_train)\n",
    "            print('Game #: %s' % i)\n",
    "            \n",
    "            model.fit(X_train, y_train, batch_size=batch_size, nb_epoch=1, verbose=1)\n",
    "            state = new_state\n",
    "        if reward != -1:\n",
    "            status = 0\n",
    "        clear_output(wait=True)\n",
    "    if epsilon > 0.1:\n",
    "        epsilon -= (1. / epochs)"
   ]
  },
  {
   "cell_type": "code",
   "execution_count": 12,
   "metadata": {
    "collapsed": false
   },
   "outputs": [
    {
     "name": "stdout",
     "output_type": "stream",
     "text": [
      "Invalid grid. Rebuilding...\n",
      "Initial State:\n",
      "[[u' ' u' ' u'P' u' ']\n",
      " [u'W' u' ' u' ' u' ']\n",
      " [u' ' u' ' u' ' u' ']\n",
      " [u'+' u'-' u' ' u' ']]\n",
      "Move #: 0; Taking action: 1\n",
      "[[u' ' u' ' u' ' u' ']\n",
      " [u'W' u' ' u'P' u' ']\n",
      " [u' ' u' ' u' ' u' ']\n",
      " [u'+' u'-' u' ' u' ']]\n",
      "Move #: 1; Taking action: 1\n",
      "[[u' ' u' ' u' ' u' ']\n",
      " [u'W' u' ' u' ' u' ']\n",
      " [u' ' u' ' u'P' u' ']\n",
      " [u'+' u'-' u' ' u' ']]\n",
      "Move #: 2; Taking action: 2\n",
      "[[u' ' u' ' u' ' u' ']\n",
      " [u'W' u' ' u' ' u' ']\n",
      " [u' ' u'P' u' ' u' ']\n",
      " [u'+' u'-' u' ' u' ']]\n",
      "Move #: 3; Taking action: 2\n",
      "[[u' ' u' ' u' ' u' ']\n",
      " [u'W' u' ' u' ' u' ']\n",
      " [u'P' u' ' u' ' u' ']\n",
      " [u'+' u'-' u' ' u' ']]\n",
      "Move #: 4; Taking action: 1\n",
      "[[u' ' u' ' u' ' u' ']\n",
      " [u'W' u' ' u' ' u' ']\n",
      " [u' ' u' ' u' ' u' ']\n",
      " [u' ' u'-' u' ' u' ']]\n",
      "Reward: 10\n"
     ]
    }
   ],
   "source": [
    "test_algo(2)"
   ]
  },
  {
   "cell_type": "code",
   "execution_count": 14,
   "metadata": {
    "collapsed": false
   },
   "outputs": [
    {
     "name": "stdout",
     "output_type": "stream",
     "text": [
      "Invalid grid. Rebuilding...\n",
      "Invalid grid. Rebuilding...\n",
      "Invalid grid. Rebuilding...\n",
      "Invalid grid. Rebuilding...\n",
      "Initial State:\n",
      "[[u' ' u' ' u'P' u'W']\n",
      " [u' ' u' ' u' ' u' ']\n",
      " [u'-' u' ' u'+' u' ']\n",
      " [u' ' u' ' u' ' u' ']]\n",
      "Move #: 0; Taking action: 1\n",
      "[[u' ' u' ' u' ' u'W']\n",
      " [u' ' u' ' u'P' u' ']\n",
      " [u'-' u' ' u'+' u' ']\n",
      " [u' ' u' ' u' ' u' ']]\n",
      "Move #: 1; Taking action: 1\n",
      "[[u' ' u' ' u' ' u'W']\n",
      " [u' ' u' ' u' ' u' ']\n",
      " [u'-' u' ' u' ' u' ']\n",
      " [u' ' u' ' u' ' u' ']]\n",
      "Reward: 10\n"
     ]
    }
   ],
   "source": [
    "test_algo(2)"
   ]
  },
  {
   "cell_type": "code",
   "execution_count": null,
   "metadata": {
    "collapsed": true
   },
   "outputs": [],
   "source": []
  }
 ],
 "metadata": {
  "kernelspec": {
   "display_name": "Python 2",
   "language": "python",
   "name": "python2"
  },
  "language_info": {
   "codemirror_mode": {
    "name": "ipython",
    "version": 2
   },
   "file_extension": ".py",
   "mimetype": "text/x-python",
   "name": "python",
   "nbconvert_exporter": "python",
   "pygments_lexer": "ipython2",
   "version": "2.7.6"
  },
  "widgets": {
   "state": {},
   "version": "1.0.0"
  }
 },
 "nbformat": 4,
 "nbformat_minor": 0
}
